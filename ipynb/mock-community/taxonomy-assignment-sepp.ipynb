{
 "cells": [
  {
   "cell_type": "markdown",
   "metadata": {},
   "source": [
    "# Data generation: using python to sweep over methods and parameters"
   ]
  },
  {
   "cell_type": "markdown",
   "metadata": {},
   "source": [
    "### SEPP\n",
    "In order to run SEPP, you need to install Qiime2 >= 2018.11 https://docs.qiime2.org/2018.11/install/ \n",
    "\n",
    "The wrapper script can be found here https://github.com/sjanssen2/tax-credit_fragment-insertion/blob/master/tax-credit_fragment-insertion/wrapper_sepp.py\n",
    "\n",
    "There are two independent algorithms to assign a taxonomic lineage to a sequence:\n",
    "  1. **sepp-paths**: the tree is traversed from the inserted tip towards the root node and taxonomic labels along this path consitute the lineage. This highly depends on the quality of the taxonomic labels of the used reference phylogeny!\n",
    "  2. **sepp-otus**: the closest OTU tip to the inserted sequences is located in the insertion tree and its the OTU's lineage is inherited for the sequence.\n",
    "  \n",
    "`reference_name` shall protocol which reference phylogeny/alignment was used for the SEPP run, but it does not influence anything in the wrapper. If you want use actually a different reference, maybe Silva, use parameters `reference_alignment` and `reference_phylogeny`. Method name and parameter `method` also coincide to satisfy the tax-credit framework. The called binary is the same, but we don't want to \"merge\" results of those two fundamentally different algorithms into the same \"method\" bin of tax-credit. But \"method\" here is more than a parameter.\n",
    "\n",
    "Parameter `--cross_validate` ensures that SEPP first removes all sequences with IDs found in the input from reference phylogeny/alignment prior to inserting the query sequences into the (now reduced) reference and thus satisfying the nature of a cross validation."
   ]
  },
  {
   "cell_type": "markdown",
   "metadata": {},
   "source": [
    "## Environment preparation"
   ]
  },
  {
   "cell_type": "code",
   "execution_count": 1,
   "metadata": {},
   "outputs": [],
   "source": [
    "from os.path import join, expandvars \n",
    "from joblib import Parallel, delayed\n",
    "from glob import glob\n",
    "from os import system\n",
    "from tax_credit.framework_functions import (parameter_sweep,\n",
    "                                            generate_per_method_biom_tables,\n",
    "                                            move_results_to_repository)\n"
   ]
  },
  {
   "cell_type": "code",
   "execution_count": 2,
   "metadata": {},
   "outputs": [],
   "source": [
    "project_dir = expandvars(\"$HOME/Desktop/projects/tax-credit\")\n",
    "analysis_name= \"mock-community\"\n",
    "data_dir = join(project_dir, \"data\", analysis_name)\n",
    "\n",
    "reference_database_dir = expandvars(\"$HOME/Desktop/projects/tax-credit/data/ref_dbs/\")\n",
    "results_dir = expandvars(\"$HOME/Desktop/projects/mock-community/\")"
   ]
  },
  {
   "cell_type": "markdown",
   "metadata": {},
   "source": [
    "## Preparing data set sweep"
   ]
  },
  {
   "cell_type": "markdown",
   "metadata": {},
   "source": [
    "First, we're going to define the data sets that we'll sweep over. The following cell does not need to be modified unless if you wish to change the datasets or reference databases used in the sweep."
   ]
  },
  {
   "cell_type": "code",
   "execution_count": 3,
   "metadata": {},
   "outputs": [],
   "source": [
    "dataset_reference_combinations = [\n",
    " ('mock-1', 'gg_13_8_otus'), # formerly S16S-1\n",
    " ('mock-2', 'gg_13_8_otus'), # formerly S16S-2\n",
    " ('mock-3', 'gg_13_8_otus'), # formerly Broad-1\n",
    " ('mock-4', 'gg_13_8_otus'), # formerly Broad-2\n",
    " ('mock-5', 'gg_13_8_otus'), # formerly Broad-3\n",
    " ('mock-6', 'gg_13_8_otus'), # formerly Turnbaugh-1\n",
    " ('mock-7', 'gg_13_8_otus'), # formerly Turnbaugh-2\n",
    " ('mock-8', 'gg_13_8_otus'), # formerly Turnbaugh-3\n",
    " #Silva not available for sepp ('mock-9', 'unite_20.11.2016'), # formerly ITS1\n",
    " #Silva not available for sepp ('mock-10', 'unite_20.11.2016'), # formerly ITS2-SAG\n",
    " ('mock-12', 'gg_13_8_otus'), # Extreme\n",
    " ('mock-13', 'gg_13_8_otus_full16S'), # kozich-1\n",
    " ('mock-14', 'gg_13_8_otus_full16S'), # kozich-2\n",
    " ('mock-15', 'gg_13_8_otus_full16S'), # kozich-3\n",
    " ('mock-16', 'gg_13_8_otus'), # schirmer-1\n",
    "]\n",
    "\n",
    "reference_dbs = {'gg_13_8_otus' : (join(reference_database_dir, 'gg_13_8_otus/99_otus_clean_515f-806r_trim250.fasta'), \n",
    "                                   join(reference_database_dir, 'gg_13_8_otus/99_otu_taxonomy_clean.tsv')),\n",
    "                 'gg_13_8_otus_full16S' : (join(reference_database_dir, 'gg_13_8_otus/99_otus_clean.fasta'), \n",
    "                                   join(reference_database_dir, 'gg_13_8_otus/99_otu_taxonomy_clean.tsv')),\n",
    "                 'unite_20.11.2016' : (join(reference_database_dir, 'unite_20.11.2016/sh_refs_qiime_ver7_99_20.11.2016_dev_clean_ITS1Ff-ITS2r_trim250.fasta'), \n",
    "                                       join(reference_database_dir, 'unite_20.11.2016/sh_taxonomy_qiime_ver7_99_20.11.2016_dev_clean.tsv'))}"
   ]
  },
  {
   "cell_type": "markdown",
   "metadata": {},
   "source": [
    "## Preparing the method/parameter combinations and generating commands\n",
    "\n",
    "Now we set the methods and method-specific parameters that we want to sweep. Modify to sweep other methods. Note how method_parameters_combinations feeds method/parameter combinations to parameter_sweep() in the cell below."
   ]
  },
  {
   "cell_type": "code",
   "execution_count": 4,
   "metadata": {},
   "outputs": [],
   "source": [
    "method_parameters_combinations = {\n",
    "    'sepp-paths': {'method': ['path'], 'reference_name': ['gg138']},\n",
    "    'sepp-otus': {'method': ['otus'], 'reference_name': ['gg138']}\n",
    "}"
   ]
  },
  {
   "cell_type": "markdown",
   "metadata": {},
   "source": [
    "Now enter the template of the command to sweep, and generate a list of commands with ``parameter_sweep()``.\n",
    "\n",
    "Fields must adhere to following format:\n",
    "\n",
    "                      {0} = output directory\n",
    "                      {1} = input data\n",
    "                      {2} = reference sequences\n",
    "                      {3} = reference taxonomy\n",
    "                      {4} = method name\n",
    "                      {5} = other parameters"
   ]
  },
  {
   "cell_type": "code",
   "execution_count": 5,
   "metadata": {},
   "outputs": [],
   "source": [
    "# this filepath needs to point to the directory in which the SEPP wrapper can be found\n",
    "fp_wrapper_script = '../../../q2-fragment-insertion/tax-credit/'\n",
    "\n",
    "command_template = \"%s/wrapper_sepp.py {1} {0}/rep_seqs_tax_assignments.txt {5}\" % (\n",
    "    fp_wrapper_script)\n",
    "\n",
    "# extend command by specifying specific reference\n",
    "#command_template += ' --reference_alignment %s --reference_phylogeny %s' % (\n",
    "#    join(fp_wrapper_script, '../', 'q2_fragment_insertion', 'tests', 'data', 'reference_alignment_tiny.qza'),\n",
    "#    join(fp_wrapper_script, '../', 'q2_fragment_insertion', 'tests', 'data', 'reference_phylogeny_tiny.qza'))\n",
    "        \n",
    "commands = parameter_sweep(data_dir, results_dir, reference_dbs,\n",
    "                           dataset_reference_combinations,\n",
    "                           method_parameters_combinations, command_template,\n",
    "                           infile='rep_seqs.fna', output_name='rep_seqs_tax_assignments.txt', force=True)\n"
   ]
  },
  {
   "cell_type": "markdown",
   "metadata": {},
   "source": [
    "As a sanity check, we can look at the first command that was generated and the number of commands generated."
   ]
  },
  {
   "cell_type": "code",
   "execution_count": 6,
   "metadata": {},
   "outputs": [
    {
     "name": "stdout",
     "output_type": "stream",
     "text": [
      "26\n"
     ]
    },
    {
     "data": {
      "text/plain": [
       "'../../../q2-fragment-insertion/tax-credit//wrapper_sepp.py /home/sjanssen/Desktop/projects/tax-credit/data/mock-community/mock-1/rep_seqs.fna /home/sjanssen/Desktop/projects/mock-community/mock-1/gg_13_8_otus/sepp-paths/path:gg138/rep_seqs_tax_assignments.txt --method path --reference_name gg138'"
      ]
     },
     "execution_count": 6,
     "metadata": {},
     "output_type": "execute_result"
    }
   ],
   "source": [
    "print(len(commands))\n",
    "commands[0]"
   ]
  },
  {
   "cell_type": "markdown",
   "metadata": {},
   "source": [
    "Finally, we run our commands."
   ]
  },
  {
   "cell_type": "code",
   "execution_count": 76,
   "metadata": {
    "collapsed": true
   },
   "outputs": [
    {
     "data": {
      "text/plain": [
       "[0,\n",
       " 0,\n",
       " 0,\n",
       " 0,\n",
       " 0,\n",
       " 0,\n",
       " 0,\n",
       " 0,\n",
       " 0,\n",
       " 0,\n",
       " 0,\n",
       " 0,\n",
       " 0,\n",
       " 0,\n",
       " 0,\n",
       " 0,\n",
       " 0,\n",
       " 0,\n",
       " 0,\n",
       " 0,\n",
       " 0,\n",
       " 0,\n",
       " 0,\n",
       " 0,\n",
       " 0,\n",
       " 0,\n",
       " 0,\n",
       " 0,\n",
       " 0,\n",
       " 0,\n",
       " 0,\n",
       " 0,\n",
       " 0,\n",
       " 0,\n",
       " 0,\n",
       " 0,\n",
       " 0,\n",
       " 0,\n",
       " 0,\n",
       " 0,\n",
       " 0,\n",
       " 0,\n",
       " 0,\n",
       " 0,\n",
       " 0,\n",
       " 0,\n",
       " 0,\n",
       " 0,\n",
       " 0,\n",
       " 0,\n",
       " 0,\n",
       " 0,\n",
       " 0,\n",
       " 0,\n",
       " 0,\n",
       " 0,\n",
       " 0,\n",
       " 0,\n",
       " 0,\n",
       " 0]"
      ]
     },
     "execution_count": 76,
     "metadata": {},
     "output_type": "execute_result"
    }
   ],
   "source": [
    "Parallel(n_jobs=4)(delayed(system)(command) for command in commands)"
   ]
  },
  {
   "cell_type": "markdown",
   "metadata": {},
   "source": [
    "## Generate per-method biom tables\n",
    "\n",
    "Modify the taxonomy_glob below to point to the taxonomy assignments that were generated above. This may be necessary if filepaths were altered in the preceding cells."
   ]
  },
  {
   "cell_type": "code",
   "execution_count": 52,
   "metadata": {},
   "outputs": [],
   "source": [
    "taxonomy_glob = join(results_dir, '*', '*', 'sepp*', '*', 'rep_seqs_tax_assignments.txt')\n",
    "generate_per_method_biom_tables(taxonomy_glob, data_dir)"
   ]
  },
  {
   "cell_type": "markdown",
   "metadata": {},
   "source": [
    "## Move result files to repository\n",
    "\n",
    "Add results to the tax-credit directory (e.g., to push these results to the repository or compare with other precomputed results in downstream analysis steps). The precomputed_results_dir path and methods_dirs glob below should not need to be changed unless if substantial changes were made to filepaths in the preceding cells.\n",
    "\n",
    "Uncomment and run when (and if) you want to move your new results to the ``tax-credit`` directory. Note that results needn't be in ``tax-credit`` to compare using the evaluation notebooks."
   ]
  },
  {
   "cell_type": "code",
   "execution_count": 78,
   "metadata": {},
   "outputs": [],
   "source": [
    "# precomputed_results_dir = join(project_dir, \"data\", \"precomputed-results\", analysis_name)\n",
    "# method_dirs = glob(join(results_dir, '*', '*', '*', '*'))\n",
    "# move_results_to_repository(method_dirs, precomputed_results_dir)"
   ]
  },
  {
   "cell_type": "code",
   "execution_count": null,
   "metadata": {
    "collapsed": true
   },
   "outputs": [],
   "source": []
  }
 ],
 "metadata": {
  "anaconda-cloud": {},
  "kernelspec": {
   "display_name": "Python 3",
   "language": "python",
   "name": "python3"
  },
  "language_info": {
   "codemirror_mode": {
    "name": "ipython",
    "version": 3
   },
   "file_extension": ".py",
   "mimetype": "text/x-python",
   "name": "python",
   "nbconvert_exporter": "python",
   "pygments_lexer": "ipython3",
   "version": "3.5.5"
  }
 },
 "nbformat": 4,
 "nbformat_minor": 1
}
